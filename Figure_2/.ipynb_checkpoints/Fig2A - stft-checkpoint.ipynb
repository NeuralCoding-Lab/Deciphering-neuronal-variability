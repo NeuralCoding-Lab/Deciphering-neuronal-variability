{
 "cells": [
  {
   "cell_type": "code",
   "execution_count": 6,
   "id": "5b9a864f",
   "metadata": {},
   "outputs": [],
   "source": [
    "import sys\n",
    "sys.path.append(r\"C:\\Users\\shailaja.akella\\Dropbox (Personal)\\variability_phase4\\state_dependent_variability_paper\\figure_codes\")\n",
    "\n",
    "\n",
    "import os\n",
    "import matplotlib.pyplot as plt\n",
    "import numpy as np\n",
    "import seaborn as sns\n",
    "from allensdk.brain_observatory.ecephys.ecephys_session import EcephysSession\n",
    "from scipy import signal\n",
    "from scipy.ndimage import gaussian_filter\n",
    "\n",
    "import data_utils as du\n",
    "import behavior_utils as bu\n",
    "import lfp_utils as lu\n"
   ]
  },
  {
   "cell_type": "code",
   "execution_count": 7,
   "id": "dcdfe5c6",
   "metadata": {},
   "outputs": [],
   "source": [
    "session_id = 767871931\n",
    "probes = ['probeC', 'probeD', 'probeF', 'probeE', 'probeB', 'probeA']\n",
    "stim = 'natural_movie_one_more_repeats'\n",
    "Fs = 30\n",
    "Fs_lfp = 1250\n",
    "\n",
    "session = du.get_nwb_session(session_id)\n",
    "trials = du.trials_table(session, stim)\n",
    "duration = int(trials.duration.mean())\n",
    "n_tr = len(trials)"
   ]
  },
  {
   "cell_type": "code",
   "execution_count": null,
   "id": "65886d18",
   "metadata": {},
   "outputs": [],
   "source": [
    "# LFPs\n",
    "lfp, channel_ids = lu.lfps(session_id, stim)\n",
    "\n",
    "# running, pupil\n",
    "pupil_data = bu.pupil_area(session, stim, trials)\n",
    "running_data = bu.running(session, stim, trials)\n",
    "binned_running_speed = bu.bin_behavior(running_data, Fs, duration).reshape(-1)\n",
    "binned_pupil_size = bu.bin_behavior(pupil_data, Fs, duration).reshape(-1)\n",
    "\n",
    "# STFT\n",
    "Zxx = np.zeros((lfp['probeC'].shape[0], 1025, 2199)) + np.nan\n",
    "for ch in range(lfp['probeC'].shape[0]):\n",
    "    f, t, Zxx[ch] = np.abs(np.array(signal.stft(lfp['probeC'][ch].reshape(-1), Fs_lfp, nperseg=2048), dtype=object))"
   ]
  },
  {
   "cell_type": "code",
   "execution_count": null,
   "id": "cc74f127",
   "metadata": {},
   "outputs": [],
   "source": [
    "# PLOT\n",
    "fig, ax = plt.subplots(nrows=2, ncols=1, figsize=(5, 3), gridspec_kw={'height_ratios': [0.75, 0.25]})\n",
    "x = np.log10(Zxx[0, :, :])\n",
    "x = np.array([(x_i - np.nanmean(x_i)) / np.std(x_i) for x_i in x])\n",
    "x = gaussian_filter(x, sigma=5)\n",
    "idx = np.argmin(np.abs(f - 100))\n",
    "sns.heatmap(np.flipud(x[:idx, 700:1250]), cmap='Spectral_r', center=0, vmax=0.7, ax=ax[0],\n",
    "            vmin=-0.7, xticklabels=100, cbar=False)\n",
    "ax[0].set_yticks(idx - np.arange(0, 170, 32), labels=np.round(f[np.arange(0, 170, 32)] / 10) * 10, rotation=0);\n",
    "ax[0].set_xticks([])\n",
    "ax[0].set_ylabel('Frequency (Hz)')\n",
    "\n",
    "Hz = 30\n",
    "t_start = int(t[700] * Hz)\n",
    "t_end = int(t[1250] * Hz)\n",
    "ax[1].plot(np.arange(t_end - t_start) / Hz, binned_pupil_size[t_start:t_end] + 7, color='k', lw=0.5)\n",
    "ax[1].text(10, 9, 'pupil size')\n",
    "ax[1].plot(np.arange(t_end - t_start) / Hz, binned_running_speed[t_start:t_end], color='k', lw=0.5)\n",
    "ax[1].text(10, 2, 'running')\n",
    "plt.yticks([])\n",
    "ax[1].set_xlim(0, len(binned_pupil_size[t_start:t_end]) / Hz)\n",
    "ax[1].spines['top'].set_visible(False)\n",
    "ax[1].spines['right'].set_visible(False)\n",
    "ax[1].spines['bottom'].set_visible(False)\n",
    "ax[1].spines['left'].set_visible(False)\n",
    "ax[1].set_xlabel('Time (s)')\n",
    "plt.tight_layout()"
   ]
  },
  {
   "cell_type": "code",
   "execution_count": null,
   "id": "1d8284d5",
   "metadata": {},
   "outputs": [],
   "source": []
  }
 ],
 "metadata": {
  "kernelspec": {
   "display_name": "Python 3 (ipykernel)",
   "language": "python",
   "name": "python3"
  },
  "language_info": {
   "codemirror_mode": {
    "name": "ipython",
    "version": 3
   },
   "file_extension": ".py",
   "mimetype": "text/x-python",
   "name": "python",
   "nbconvert_exporter": "python",
   "pygments_lexer": "ipython3",
   "version": "3.7.11"
  }
 },
 "nbformat": 4,
 "nbformat_minor": 5
}
