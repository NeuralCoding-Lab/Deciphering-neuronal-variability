{
 "cells": [
  {
   "cell_type": "code",
   "execution_count": 1,
   "id": "2ff4c0d3",
   "metadata": {},
   "outputs": [],
   "source": [
    "import matplotlib.pyplot as plt\n",
    "import numpy as np"
   ]
  },
  {
   "cell_type": "code",
   "execution_count": 2,
   "id": "366f13f4",
   "metadata": {},
   "outputs": [],
   "source": [
    "probes = ['probeC', 'probeD', 'probeF', 'probeE', 'probeB', 'probeA']\n",
    "session_ids = [767871931, 771990200, 778240327, 778998620, 786091066,\n",
    "            794812542, 831882777, 839068429, 847657808, 840012044,\n",
    "            766640955, 768515987, 771160300, 774875821, 779839471,\n",
    "            781842082, 787025148, 789848216, 793224716, 816200189,\n",
    "            819186360, 819701982, 821695405, 829720705, 835479236]"
   ]
  },
  {
   "cell_type": "code",
   "execution_count": 5,
   "id": "cdb21d0d",
   "metadata": {},
   "outputs": [],
   "source": [
    "# FIGURE 2C\n",
    "ll = np.load('..\\data\\LL_states.npy', allow_pickle=True).item()\n",
    "sel_metric = np.zeros((len(session_ids), 14))\n",
    "stim = 'natural_movie_one_more_repeats'\n",
    "state_range = ll[session_ids[0], stim][:, 0]\n"
   ]
  },
  {
   "cell_type": "code",
   "execution_count": 35,
   "id": "87717a8b",
   "metadata": {},
   "outputs": [
    {
     "data": {
      "image/png": "[encoded data removed]",
      "text/plain": [
       "<Figure size 396x216 with 2 Axes>"
      ]
     },
     "metadata": {
      "needs_background": "light"
     },
     "output_type": "display_data"
    }
   ],
   "source": [
    "ll_example_session = np.load('..\\data\\LL_states_771990200.npy', allow_pickle = True).item()[(771990200, stim)]\n",
    "\n",
    "fig, ax = plt.subplots(1, 2, figsize = (5.5, 3))\n",
    "\n",
    "x = state_range\n",
    "y = np.nanmean(-ll_example_session, axis = 0)\n",
    "yerr = np.nanstd(-ll_example_session, axis = 0)/np.sqrt(ll_example_session.shape[0])\n",
    "ax[0].plot(x, y, color = 'k')\n",
    "ax[0].fill_between(x, y + yerr, y-yerr, alpha = 0.5, color = 'silver', ls = 'None')\n",
    "ax[0].set_ylabel('Held-out LL\\n(example session)')\n",
    "ax[0].set_xlabel('States')\n",
    "ax[0].spines[\"top\"].set_visible(False)\n",
    "ax[0].spines[\"right\"].set_visible(False)\n",
    "\n",
    "current_yticks = ax[0].get_yticks()  \n",
    "alternate_yticks = current_yticks[1::2] \n",
    "ax[0].set_yticks(alternate_yticks) \n",
    "\n",
    "ax[0].ticklabel_format(axis='y', style='sci', scilimits=(0, 0))  \n",
    "ax[0].set_xticks(x[::2])\n",
    "\n",
    "for s_no, session_id in enumerate(session_ids):\n",
    "    sel_metric[s_no] = -ll[session_id, stim][:, 1]\n",
    "    \n",
    "    \n",
    "norm_LL = np.array([(l - np.nanmin(l))/(np.nanmax(l) - np.nanmin(l)) for l in sel_metric]).T\n",
    "op_states = []\n",
    "for l in norm_LL.T:\n",
    "    op_states.append(x[np.argmax(np.diff(np.diff(l))) + 2])\n",
    "op_state = max(set(op_states), key = op_states.count)\n",
    "\n",
    "unique, counts = np.unique(op_states, return_counts=True)\n",
    "ax[1].bar(unique, counts, color = 'k',width = 1)\n",
    "ax[1].set_xlim(0, 14)\n",
    "ax[1].set_xticks(x[::2])\n",
    "ax[1].set_ylabel('Number of mice')\n",
    "\n",
    "for i in range(2): \n",
    "    ax[i].spines['top'].set_visible(False)\n",
    "    ax[i].spines['right'].set_visible(False)\n",
    "    ax[i].spines['bottom'].set_visible(True)\n",
    "    ax[i].spines['left'].set_visible(True)\n",
    "    ax[i].set_xlabel('Number of states')\n",
    "plt.tight_layout()\n",
    "# plt.savefig('num_states_control.pdf')"
   ]
  }
 ],
 "metadata": {
  "kernelspec": {
   "display_name": "Python 3 (ipykernel)",
   "language": "python",
   "name": "python3"
  },
  "language_info": {
   "codemirror_mode": {
    "name": "ipython",
    "version": 3
   },
   "file_extension": ".py",
   "mimetype": "text/x-python",
   "name": "python",
   "nbconvert_exporter": "python",
   "pygments_lexer": "ipython3",
   "version": "3.7.16"
  }
 },
 "nbformat": 4,
 "nbformat_minor": 5
}
