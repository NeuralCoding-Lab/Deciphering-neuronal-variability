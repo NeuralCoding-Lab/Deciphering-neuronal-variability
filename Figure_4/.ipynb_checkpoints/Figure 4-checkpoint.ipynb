{
 "cells": [
  {
   "cell_type": "code",
   "execution_count": 8,
   "id": "97d1a958",
   "metadata": {},
   "outputs": [],
   "source": [
    "import sys\n",
    "sys.path.append(r\"C:\\Users\\shailaja.akella\\Dropbox (Personal)\\variability_phase4\\state_dependent_variability_paper\\figure_codes\")\n",
    "\n",
    "import seaborn as sns\n",
    "import pandas as pd\n",
    "import numpy as np\n",
    "import math\n",
    "from scipy import stats\n",
    "\n",
    "import matplotlib.pyplot as plt\n",
    "from matplotlib.colors import ListedColormap\n",
    "\n",
    "import statsmodels.api as sm\n",
    "from statsmodels.formula.api import ols\n",
    "from IPython.display import display, Markdown"
   ]
  },
  {
   "cell_type": "code",
   "execution_count": 9,
   "id": "1d640b74",
   "metadata": {},
   "outputs": [],
   "source": [
    "Fs_spikes = 1250\n",
    "\n",
    "probes = ['probeC', 'probeD', 'probeF', 'probeE', 'probeB', 'probeA']\n",
    "names = ['V1', 'LM','RL', 'AL','PM', 'AM']\n",
    "probe_colors = np.array([[0.34648212, 0.54925029, 0.7527105 ],\n",
    "                         [0.64098424, 0.82729719, 0.90080738],\n",
    "                         [0.66180315, 0.71585928, 0.911188  ], \n",
    "                         [0.91530181, 0.91530181, 0.61530181],\n",
    "                         [0.98731257, 0.6473664 , 0.36424452],\n",
    "                         [0.8899654 , 0.28673587, 0.19815456]])\n",
    "\n",
    "num_states = 3\n",
    "HS = [-0.5, -0.13, -0.14, 0, 0.12, 0.29]\n",
    "\n",
    "state_names = ['High frequency', 'Intermediate', 'Low frequency']\n",
    "short_state_names = [r\"$S_{H}$\", r\"$S_{I}$\", r\"$S_{L}$\"]\n",
    "state_colors = ['tab:green', 'tab:blue', 'mediumvioletred']\n",
    "state_cmap = ListedColormap(state_colors, name='states')\n",
    "\n",
    "\n",
    "sessions = [767871931, 771990200, 778240327, 778998620, 786091066,\n",
    "            794812542, 831882777, 839068429, 847657808, 840012044,\n",
    "            766640955, 768515987, 771160300, 774875821, 779839471,\n",
    "            781842082, 787025148, 789848216, 793224716, 816200189,\n",
    "            819186360, 819701982, 821695405, 829720705, 835479236]"
   ]
  },
  {
   "cell_type": "code",
   "execution_count": 10,
   "id": "2d29fca6",
   "metadata": {},
   "outputs": [],
   "source": [
    "filepath = '../../figure_codes'"
   ]
  },
  {
   "cell_type": "code",
   "execution_count": 11,
   "id": "85e7fc5b",
   "metadata": {},
   "outputs": [
    {
     "name": "stdout",
     "output_type": "stream",
     "text": [
      "-------------------------------------\n",
      "Two-way ANOVA for states and areas: \n"
     ]
    },
    {
     "data": {
      "text/html": [
       "<div>\n",
       "<style scoped>\n",
       "    .dataframe tbody tr th:only-of-type {\n",
       "        vertical-align: middle;\n",
       "    }\n",
       "\n",
       "    .dataframe tbody tr th {\n",
       "        vertical-align: top;\n",
       "    }\n",
       "\n",
       "    .dataframe thead th {\n",
       "        text-align: right;\n",
       "    }\n",
       "</style>\n",
       "<table border=\"1\" class=\"dataframe\">\n",
       "  <thead>\n",
       "    <tr style=\"text-align: right;\">\n",
       "      <th></th>\n",
       "      <th>sum_sq</th>\n",
       "      <th>df</th>\n",
       "      <th>F</th>\n",
       "      <th>PR(&gt;F)</th>\n",
       "    </tr>\n",
       "  </thead>\n",
       "  <tbody>\n",
       "    <tr>\n",
       "      <th>C(HS)</th>\n",
       "      <td>1.122336e+05</td>\n",
       "      <td>5.0</td>\n",
       "      <td>78.768741</td>\n",
       "      <td>3.295479e-82</td>\n",
       "    </tr>\n",
       "    <tr>\n",
       "      <th>C(state)</th>\n",
       "      <td>2.457723e+05</td>\n",
       "      <td>2.0</td>\n",
       "      <td>431.224888</td>\n",
       "      <td>1.497225e-184</td>\n",
       "    </tr>\n",
       "    <tr>\n",
       "      <th>C(HS):C(state)</th>\n",
       "      <td>9.431667e+03</td>\n",
       "      <td>10.0</td>\n",
       "      <td>3.309705</td>\n",
       "      <td>2.641966e-04</td>\n",
       "    </tr>\n",
       "    <tr>\n",
       "      <th>Residual</th>\n",
       "      <td>6.499880e+06</td>\n",
       "      <td>22809.0</td>\n",
       "      <td>NaN</td>\n",
       "      <td>NaN</td>\n",
       "    </tr>\n",
       "  </tbody>\n",
       "</table>\n",
       "</div>"
      ],
      "text/plain": [
       "                      sum_sq       df           F         PR(>F)\n",
       "C(HS)           1.122336e+05      5.0   78.768741   3.295479e-82\n",
       "C(state)        2.457723e+05      2.0  431.224888  1.497225e-184\n",
       "C(HS):C(state)  9.431667e+03     10.0    3.309705   2.641966e-04\n",
       "Residual        6.499880e+06  22809.0         NaN            NaN"
      ]
     },
     "metadata": {},
     "output_type": "display_data"
    },
    {
     "name": "stdout",
     "output_type": "stream",
     "text": [
      "-------------------------------------\n",
      "Pairwise T-test for states: \n"
     ]
    },
    {
     "data": {
      "text/markdown": [
       "$S_{H}$, $S_{I}$: 3.21e-07"
      ],
      "text/plain": [
       "<IPython.core.display.Markdown object>"
      ]
     },
     "metadata": {},
     "output_type": "display_data"
    },
    {
     "data": {
      "text/markdown": [
       "$S_{H}$, $S_{L}$: 4.32e-147"
      ],
      "text/plain": [
       "<IPython.core.display.Markdown object>"
      ]
     },
     "metadata": {},
     "output_type": "display_data"
    },
    {
     "data": {
      "text/markdown": [
       "$S_{I}$, $S_{L}$: 4.10e-96"
      ],
      "text/plain": [
       "<IPython.core.display.Markdown object>"
      ]
     },
     "metadata": {},
     "output_type": "display_data"
    },
    {
     "data": {
      "image/png": "[encoded data removed]",
      "text/plain": [
       "<Figure size 468x180 with 3 Axes>"
      ]
     },
     "metadata": {
      "needs_background": "light"
     },
     "output_type": "display_data"
    }
   ],
   "source": [
    "shared_var = np.load(filepath + \"/data/variability/shared_variance_sample_size_controlled.npy\")\n",
    "\n",
    "df = pd.DataFrame()\n",
    "for p_no, probe in enumerate(probes):\n",
    "    for s_no in range(num_states):\n",
    "        vals = shared_var[:, p_no, :, s_no]\n",
    "        temp_df = pd.DataFrame()\n",
    "        temp_df['% shared variance'] = vals[~np.isnan(vals)]\n",
    "        temp_df['state'] = short_state_names[s_no]\n",
    "        temp_df['area'] = names[p_no]\n",
    "        temp_df['HS'] = HS[p_no]\n",
    "        df = df.append(temp_df)\n",
    "\n",
    "fig, ax = plt.subplots(1, 3, figsize = (6.5, 2.5))\n",
    "for ns in range(num_states):\n",
    "    sns.regplot(x = 'HS', y = '% shared variance', data = df[df['state'] == short_state_names[ns]],\n",
    "                   ax = ax[ns], scatter = True, x_estimator = np.mean, ci = 0, x_ci = 95, \n",
    "                scatter_kws = {'c':probe_colors, 'color': None, 's': 60}, \n",
    "                line_kws = {'color':'k', 'ls': '--', 'lw': 0.5})\n",
    "\n",
    "    for i, line in enumerate(ax[ns].get_lines()[:-1]):\n",
    "        line.set_color(probe_colors[i])\n",
    "    \n",
    "    mean_val = np.nanmean(df[df['state'] == short_state_names[ns]]['% shared variance'].values)\n",
    "    ax[ns].plot(HS, np.ones(6)*mean_val, ls = '--' , color = 'silver')\n",
    "    plt.legend([],[], frameon=False)\n",
    "    ax[ns].spines['top'].set_visible(False)\n",
    "    ax[ns].spines['right'].set_visible(False)\n",
    "    ax[ns].spines['bottom'].set_visible(True)\n",
    "    ax[ns].spines['left'].set_visible(False)\n",
    "    ax[ns].set_ylabel('')\n",
    "    ax[ns].set_xlabel('')\n",
    "    ax[ns].set_xticks([-0.5, 0])\n",
    "    ax[ns].set_xlim(-0.6, 0.4)\n",
    "    ax[ns].set_yticks([])\n",
    "    \n",
    "    ax[ns].set_ylim(0, 25)\n",
    "ax[0].spines['left'].set_visible(True)\n",
    "ax[0].set_yticks([0, 10, 20], fontsize = 12) \n",
    "ax[0].set_ylabel('% shared variance')\n",
    "\n",
    "# correlation with anatomical hierarchy score - with RL \n",
    "for s_no in range(num_states):\n",
    "    vals = [np.nanmean(df[(df['state'] == short_state_names[s_no]) & (df['area'] == name)]['% shared variance'].values) for name in names]\n",
    "    res = stats.pearsonr(vals, HS)\n",
    "    ax[s_no].text(-0.55, 4, r\"$r_P$ = \" + str(np.round(res[0], 2)))\n",
    "    ax[s_no].text(-0.55, 2, r\"$p_P = $\" + str(np.round(res[1], 2)))\n",
    "plt.tight_layout()\n",
    "\n",
    "# two way ANOVA\n",
    "print('-------------------------------------')\n",
    "print('Two-way ANOVA for states and areas: ')\n",
    "df = df.rename(columns={\"% shared variance\": \"SV\"})\n",
    "model = ols('SV ~ C(HS) + C(state) + C(HS):C(state)', data=df).fit()\n",
    "display(sm.stats.anova_lm(model, typ=2)) # F-test \n",
    "\n",
    "\n",
    "# comparison across states - check p-vals\n",
    "print('-------------------------------------')\n",
    "print('Pairwise T-test for states: ')\n",
    "p = np.ones((num_states,num_states))\n",
    "for s1 in range(num_states): \n",
    "    for s2 in range(s1 + 1, num_states): \n",
    "        x = shared_var[:, :, :, s1].reshape(-1)\n",
    "        y = shared_var[:, :, :, s2].reshape(-1)\n",
    "        F, p[s1, s2] = stats.f_oneway(x[~np.isnan(x)], y[~np.isnan(y)]) \n",
    "        p_sci = \"{:.2e}\".format(p[s1, s2])\n",
    "        display(Markdown(f\"{short_state_names[s1]}, {short_state_names[s2]}: {p_sci}\"))\n",
    "        \n",
    "# plt.savefig('shared_variance.pdf') \n",
    "# plt.savefig('shared_variance.png', dpi = 300) "
   ]
  },
  {
   "cell_type": "code",
   "execution_count": 19,
   "id": "3adfba8e",
   "metadata": {},
   "outputs": [
    {
     "name": "stdout",
     "output_type": "stream",
     "text": [
      "-------------------------------------\n",
      "Two-way ANOVA for states and areas: \n"
     ]
    },
    {
     "data": {
      "text/html": [
       "<div>\n",
       "<style scoped>\n",
       "    .dataframe tbody tr th:only-of-type {\n",
       "        vertical-align: middle;\n",
       "    }\n",
       "\n",
       "    .dataframe tbody tr th {\n",
       "        vertical-align: top;\n",
       "    }\n",
       "\n",
       "    .dataframe thead th {\n",
       "        text-align: right;\n",
       "    }\n",
       "</style>\n",
       "<table border=\"1\" class=\"dataframe\">\n",
       "  <thead>\n",
       "    <tr style=\"text-align: right;\">\n",
       "      <th></th>\n",
       "      <th>sum_sq</th>\n",
       "      <th>df</th>\n",
       "      <th>F</th>\n",
       "      <th>PR(&gt;F)</th>\n",
       "    </tr>\n",
       "  </thead>\n",
       "  <tbody>\n",
       "    <tr>\n",
       "      <th>C(HS)</th>\n",
       "      <td>61.661418</td>\n",
       "      <td>5.0</td>\n",
       "      <td>88.105880</td>\n",
       "      <td>4.451416e-92</td>\n",
       "    </tr>\n",
       "    <tr>\n",
       "      <th>C(state)</th>\n",
       "      <td>11.914088</td>\n",
       "      <td>2.0</td>\n",
       "      <td>42.559078</td>\n",
       "      <td>3.562893e-19</td>\n",
       "    </tr>\n",
       "    <tr>\n",
       "      <th>C(HS):C(state)</th>\n",
       "      <td>4.467175</td>\n",
       "      <td>10.0</td>\n",
       "      <td>3.191496</td>\n",
       "      <td>4.164182e-04</td>\n",
       "    </tr>\n",
       "    <tr>\n",
       "      <th>Residual</th>\n",
       "      <td>3140.113343</td>\n",
       "      <td>22434.0</td>\n",
       "      <td>NaN</td>\n",
       "      <td>NaN</td>\n",
       "    </tr>\n",
       "  </tbody>\n",
       "</table>\n",
       "</div>"
      ],
      "text/plain": [
       "                     sum_sq       df          F        PR(>F)\n",
       "C(HS)             61.661418      5.0  88.105880  4.451416e-92\n",
       "C(state)          11.914088      2.0  42.559078  3.562893e-19\n",
       "C(HS):C(state)     4.467175     10.0   3.191496  4.164182e-04\n",
       "Residual        3140.113343  22434.0        NaN           NaN"
      ]
     },
     "metadata": {},
     "output_type": "display_data"
    },
    {
     "name": "stdout",
     "output_type": "stream",
     "text": [
      "-------------------------------------\n",
      "Pairwise T-test for states: \n"
     ]
    },
    {
     "data": {
      "text/markdown": [
       "$S_{H}$, $S_{I}$: 1.88e-64"
      ],
      "text/plain": [
       "<IPython.core.display.Markdown object>"
      ]
     },
     "metadata": {},
     "output_type": "display_data"
    },
    {
     "data": {
      "text/markdown": [
       "$S_{H}$, $S_{L}$: 2.16e-03"
      ],
      "text/plain": [
       "<IPython.core.display.Markdown object>"
      ]
     },
     "metadata": {},
     "output_type": "display_data"
    },
    {
     "data": {
      "text/markdown": [
       "$S_{I}$, $S_{L}$: 5.88e-44"
      ],
      "text/plain": [
       "<IPython.core.display.Markdown object>"
      ]
     },
     "metadata": {},
     "output_type": "display_data"
    },
    {
     "data": {
      "image/png": "[encoded data removed]",
      "text/plain": [
       "<Figure size 468x180 with 3 Axes>"
      ]
     },
     "metadata": {
      "needs_background": "light"
     },
     "output_type": "display_data"
    }
   ],
   "source": [
    "cv = np.load(filepath + \"/data/variability/CV_rate_duration_controlled.npy\")\n",
    "                     \n",
    "df = pd.DataFrame()\n",
    "for p_no, probe in enumerate(probes):\n",
    "    for s_no in range(num_states):\n",
    "        temp_df = pd.DataFrame()\n",
    "        x = cv[:, p_no, :, s_no]\n",
    "        temp_df['coefficient of variation'] = x[~np.isnan(x)]\n",
    "        temp_df['state'] = short_state_names[s_no]\n",
    "        temp_df['area'] = names[p_no]\n",
    "        temp_df['HS'] = HS[p_no]\n",
    "        df = df.append(temp_df)\n",
    "        \n",
    "        \n",
    "fig, ax = plt.subplots(1, 3, figsize = (6.5, 2.5))\n",
    "for ns in range(num_states):\n",
    "    sns.regplot(x = 'HS', y = 'coefficient of variation', data = df[df['state'] == short_state_names[ns]],\n",
    "                   ax = ax[ns], scatter = True, x_estimator = np.mean,  ci = 0, x_ci = 95, \n",
    "                scatter_kws = {'c':probe_colors, 'color': None, }, line_kws = {'color':'k', 'ls': '--', 'lw': 0.5})\n",
    "    \n",
    "    for i, line in enumerate(ax[ns].get_lines()[:-1]):\n",
    "        line.set_color(probe_colors[i])\n",
    "        \n",
    "    mean_val = np.nanmean(df[df['state'] == short_state_names[ns]]['coefficient of variation'].values)\n",
    "    ax[ns].plot(HS, np.ones(6)*mean_val, ls = '--' , color = 'silver')\n",
    "    plt.legend([],[], frameon=False)\n",
    "    \n",
    "    ax[ns].spines['top'].set_visible(False)\n",
    "    ax[ns].spines['right'].set_visible(False)\n",
    "    ax[ns].spines['bottom'].set_visible(True)\n",
    "    ax[ns].spines['left'].set_visible(False)\n",
    "    ax[ns].set_ylabel('')\n",
    "    ax[ns].set_xlabel('')\n",
    "    ax[ns].set_xticks([-0.5, 0])\n",
    "    ax[ns].set_xlim(-0.6, 0.4)\n",
    "    ax[ns].set_yticks([])\n",
    "    ax[ns].set_ylim(1.3, 1.7)\n",
    "ax[0].spines['left'].set_visible(True)\n",
    "ax[0].set_yticks([1.4, 1.6], fontsize = 12) \n",
    "ax[0].set_ylabel('coefficient of variation')\n",
    "plt.tight_layout()\n",
    "\n",
    "# correlation with anatomical hierarchy score - with RL\n",
    "for s_no in range(num_states):\n",
    "    vals = [np.nanmean(df[(df['state'] == short_state_names[s_no]) & (df['area'] == name)]['coefficient of variation'].values) for name in names]\n",
    "    res = stats.pearsonr(vals, HS)\n",
    "    ax[s_no].text(-0.55, 1.37, r\"$r_P$ = \" + str(np.round(res[0], 4)))\n",
    "    ax[s_no].text(-0.55, 1.32, r\"$p_P = $\" + str(np.round(res[1], 4)))  \n",
    "\n",
    "\n",
    "# Two way ANOVA with states are areas \n",
    "print('-------------------------------------')\n",
    "print('Two-way ANOVA for states and areas: ')\n",
    "df = df.rename(columns={\"coefficient of variation\": \"CV\"})\n",
    "model = ols('CV ~ C(HS) + C(state) + C(HS):C(state)', data=df).fit()\n",
    "display(sm.stats.anova_lm(model, typ=2))\n",
    "\n",
    "# comparison across states - check p-vals\n",
    "print('-------------------------------------')\n",
    "print('Pairwise T-test for states: ')\n",
    "p = np.ones((num_states,num_states))\n",
    "for s1 in range(num_states): \n",
    "    for s2 in range(s1 + 1, num_states): \n",
    "        x = cv[:, :, :, s1].reshape(-1)\n",
    "        y = cv[:, :, :, s2].reshape(-1)\n",
    "        F, p[s1, s2] = stats.f_oneway(x[~np.isnan(x)], y[~np.isnan(y)]) \n",
    "        p_sci = \"{:.2e}\".format(p[s1, s2])\n",
    "        display(Markdown(f\"{short_state_names[s1]}, {short_state_names[s2]}: {p_sci}\"))\n",
    "\n",
    "# plt.savefig('CV.png', dpi = 300)\n",
    "# plt.savefig('CV.pdf')"
   ]
  },
  {
   "cell_type": "code",
   "execution_count": 6,
   "id": "7c25f2c4",
   "metadata": {},
   "outputs": [
    {
     "name": "stdout",
     "output_type": "stream",
     "text": [
      "--------------------------------------------------------------\n",
      "Correlation with anatomical hierarchy score (no RL): \n"
     ]
    },
    {
     "data": {
      "text/markdown": [
       "$S_{H}$: $r_p$ = -0.94, p = 1.78e-02"
      ],
      "text/plain": [
       "<IPython.core.display.Markdown object>"
      ]
     },
     "metadata": {},
     "output_type": "display_data"
    },
    {
     "data": {
      "text/markdown": [
       "$S_{I}$: $r_p$ = -0.43, p = 4.70e-01"
      ],
      "text/plain": [
       "<IPython.core.display.Markdown object>"
      ]
     },
     "metadata": {},
     "output_type": "display_data"
    },
    {
     "data": {
      "text/markdown": [
       "$S_{L}$: $r_p$ = -0.46, p = 4.38e-01"
      ],
      "text/plain": [
       "<IPython.core.display.Markdown object>"
      ]
     },
     "metadata": {},
     "output_type": "display_data"
    },
    {
     "name": "stdout",
     "output_type": "stream",
     "text": [
      "-------------------------------------\n",
      "Two-way ANOVA for states and areas: \n"
     ]
    },
    {
     "data": {
      "text/html": [
       "<div>\n",
       "<style scoped>\n",
       "    .dataframe tbody tr th:only-of-type {\n",
       "        vertical-align: middle;\n",
       "    }\n",
       "\n",
       "    .dataframe tbody tr th {\n",
       "        vertical-align: top;\n",
       "    }\n",
       "\n",
       "    .dataframe thead th {\n",
       "        text-align: right;\n",
       "    }\n",
       "</style>\n",
       "<table border=\"1\" class=\"dataframe\">\n",
       "  <thead>\n",
       "    <tr style=\"text-align: right;\">\n",
       "      <th></th>\n",
       "      <th>sum_sq</th>\n",
       "      <th>df</th>\n",
       "      <th>F</th>\n",
       "      <th>PR(&gt;F)</th>\n",
       "    </tr>\n",
       "  </thead>\n",
       "  <tbody>\n",
       "    <tr>\n",
       "      <th>C(HS)</th>\n",
       "      <td>5.835582</td>\n",
       "      <td>4.0</td>\n",
       "      <td>7.134437</td>\n",
       "      <td>9.927571e-06</td>\n",
       "    </tr>\n",
       "    <tr>\n",
       "      <th>C(state)</th>\n",
       "      <td>44.037934</td>\n",
       "      <td>2.0</td>\n",
       "      <td>107.679364</td>\n",
       "      <td>7.514886e-47</td>\n",
       "    </tr>\n",
       "    <tr>\n",
       "      <th>C(HS):C(state)</th>\n",
       "      <td>0.915064</td>\n",
       "      <td>8.0</td>\n",
       "      <td>0.559367</td>\n",
       "      <td>8.118911e-01</td>\n",
       "    </tr>\n",
       "    <tr>\n",
       "      <th>Residual</th>\n",
       "      <td>1578.430642</td>\n",
       "      <td>7719.0</td>\n",
       "      <td>NaN</td>\n",
       "      <td>NaN</td>\n",
       "    </tr>\n",
       "  </tbody>\n",
       "</table>\n",
       "</div>"
      ],
      "text/plain": [
       "                     sum_sq      df           F        PR(>F)\n",
       "C(HS)              5.835582     4.0    7.134437  9.927571e-06\n",
       "C(state)          44.037934     2.0  107.679364  7.514886e-47\n",
       "C(HS):C(state)     0.915064     8.0    0.559367  8.118911e-01\n",
       "Residual        1578.430642  7719.0         NaN           NaN"
      ]
     },
     "metadata": {},
     "output_type": "display_data"
    },
    {
     "name": "stdout",
     "output_type": "stream",
     "text": [
      "-------------------------------------\n",
      "One-way ANOVA for states: \n"
     ]
    },
    {
     "data": {
      "text/markdown": [
       "$S_{H}$, $S_{I}$: 9.54e-05"
      ],
      "text/plain": [
       "<IPython.core.display.Markdown object>"
      ]
     },
     "metadata": {},
     "output_type": "display_data"
    },
    {
     "data": {
      "text/markdown": [
       "$S_{H}$, $S_{L}$: 8.14e-34"
      ],
      "text/plain": [
       "<IPython.core.display.Markdown object>"
      ]
     },
     "metadata": {},
     "output_type": "display_data"
    },
    {
     "data": {
      "text/markdown": [
       "$S_{I}$, $S_{L}$: 1.20e-32"
      ],
      "text/plain": [
       "<IPython.core.display.Markdown object>"
      ]
     },
     "metadata": {},
     "output_type": "display_data"
    },
    {
     "data": {
      "image/png": "[encoded data removed]",
      "text/plain": [
       "<Figure size 439.2x180 with 3 Axes>"
      ]
     },
     "metadata": {
      "needs_background": "light"
     },
     "output_type": "display_data"
    }
   ],
   "source": [
    "## Fano factor - control 1\n",
    "ff =np.load(filepath + \"/data/variability/FF_RF_rate_controlled.npy\")\n",
    "\n",
    "df = pd.DataFrame()\n",
    "for p_no, probe in enumerate(probes):\n",
    "    for s_no in range(num_states):\n",
    "        temp_df = pd.DataFrame()\n",
    "        x = ff[:, p_no, :, s_no].reshape(-1)\n",
    "        temp_df['fano factor'] = x[~np.isnan(x)]\n",
    "        temp_df['state'] = short_state_names[s_no]\n",
    "        temp_df['area'] = names[p_no]\n",
    "        temp_df['HS'] = HS[p_no]\n",
    "        df = df.append(temp_df)\n",
    "\n",
    "fig, ax = plt.subplots(1, 3, figsize = (6.1, 2.5))\n",
    "for ns in range(num_states):\n",
    "    sns.regplot(x = 'HS', y = 'fano factor', data = df[df['state'] == short_state_names[ns]],\n",
    "                   ax = ax[ns], scatter = True, x_estimator = np.mean, ci = 0, x_ci = 95, \n",
    "                scatter_kws = {'c':probe_colors, 'color': None, }, line_kws = {'color':'k', 'ls': '--', 'lw': 0.5})\n",
    "    \n",
    "    for i, line in enumerate(ax[ns].get_lines()[:-1]):\n",
    "        line.set_color(probe_colors[i])\n",
    "    \n",
    "    mean_val = np.nanmean(df[df['state'] == short_state_names[ns]]['fano factor'].values)\n",
    "    ax[ns].plot(HS, np.ones(6)*mean_val, ls = '--' , color = 'silver')\n",
    "    plt.legend([],[], frameon=False)\n",
    "    ax[ns].spines['top'].set_visible(False)\n",
    "    \n",
    "    ax[ns].spines['right'].set_visible(False)\n",
    "    ax[ns].spines['bottom'].set_visible(True)\n",
    "    ax[ns].spines['left'].set_visible(False)\n",
    "    ax[ns].set_xlabel(short_state_names[ns], fontsize = 12)\n",
    "    ax[ns].set_ylabel('')\n",
    "    ax[ns].set_xticks([-0.5, 0])\n",
    "    ax[ns].set_xlim(-0.6, 0.4)\n",
    "    ax[ns].set_yticks([])\n",
    "    ax[ns].set_ylim(0.94, 1.55)\n",
    "ax[0].spines['left'].set_visible(True)\n",
    "ax[0].set_yticks([1.0, 1.2, 1.4], fontsize = 12) \n",
    "ax[0].set_ylabel('fano factor')\n",
    "\n",
    "# correlation with anatomical hierarchy score - with RL\n",
    "for s_no in range(num_states):\n",
    "    vals = [np.nanmean(df[(df['state'] == short_state_names[s_no]) & (df['area'] == name)]['fano factor'].values) for name in names]\n",
    "    res = stats.pearsonr(vals, HS)\n",
    "    if s_no !=2:\n",
    "        ax[s_no].text(-0.5, 1.4, r\"$r_P$ = \" + str(np.round(res[0], 2)))\n",
    "        ax[s_no].text(-0.5, 1.35, r\"$p_P = $\" + str(np.round(res[1], 2)))\n",
    "    else: \n",
    "        ax[s_no].text(-0.5, 1.05, r\"$r_P$ = \" + str(np.round(res[0], 2)))\n",
    "        ax[s_no].text(-0.5, 1, r\"$p_P = $\" + str(np.round(res[1], 2)))        \n",
    "plt.tight_layout()\n",
    "\n",
    "# correlation with anatomical hierarchy score - without RL\n",
    "print('--------------------------------------------------------------')\n",
    "print('Correlation with anatomical hierarchy score (no RL): ')\n",
    "HS_no_RL= [-0.5, -0.13,  0, 0.12, 0.29]\n",
    "for s_no in range(num_states):\n",
    "    vals = [np.nanmean(df[(df['state'] == short_state_names[s_no]) & (df['area'] == name)]['fano factor'].values) for name in names if name!='RL']\n",
    "    res = stats.pearsonr(vals, HS_no_RL)\n",
    "    display(Markdown(f\"{short_state_names[s_no]}: $r_p$ = {res[0]:.2f}, p = {res[1]:.2e}\"))\n",
    "    \n",
    "    \n",
    "# two way ANOVA\n",
    "print('-------------------------------------')\n",
    "print('Two-way ANOVA for states and areas: ')\n",
    "df = df.rename(columns={\"fano factor\": \"FF\"})\n",
    "model = ols('FF ~ C(HS) + C(state) + C(HS):C(state)', data=df[df.area!='RL']).fit()\n",
    "display(sm.stats.anova_lm(model, typ=2)) # type 1 and type 2\n",
    "\n",
    "# comparison across states - check p-vals\n",
    "print('-------------------------------------')\n",
    "print('Pairwise T-test for states: ')\n",
    "p = np.ones((num_states,num_states))\n",
    "for s1 in range(num_states): \n",
    "    for s2 in range(s1 + 1, num_states): \n",
    "        x = ff[:, :, :, s1].reshape(-1)\n",
    "        y = ff[:, :, :, s2].reshape(-1)\n",
    "        F, p[s1, s2] = stats.f_oneway(x[~np.isnan(x)], y[~np.isnan(y)]) \n",
    "        p_sci = \"{:.2e}\".format(p[s1, s2])\n",
    "        display(Markdown(f\"{short_state_names[s1]}, {short_state_names[s2]}: {p_sci}\"))\n",
    "        \n",
    "# plt.savefig('FF_RF_rate_controlled.png', dpi = 300)\n",
    "# plt.savefig('FF_RF_rate_controlled.pdf')"
   ]
  },
  {
   "cell_type": "code",
   "execution_count": 7,
   "id": "41cf3d21",
   "metadata": {},
   "outputs": [
    {
     "name": "stderr",
     "output_type": "stream",
     "text": [
      "C:\\Users\\shailaja.akella\\Anaconda3\\envs\\allensdk\\lib\\site-packages\\ipykernel_launcher.py:6: RuntimeWarning: Mean of empty slice\n",
      "  \n",
      "C:\\Users\\shailaja.akella\\Anaconda3\\envs\\allensdk\\lib\\site-packages\\ipykernel_launcher.py:20: RuntimeWarning: Mean of empty slice\n",
      "C:\\Users\\shailaja.akella\\Anaconda3\\envs\\allensdk\\lib\\site-packages\\ipykernel_launcher.py:20: RuntimeWarning: Mean of empty slice\n"
     ]
    },
    {
     "name": "stdout",
     "output_type": "stream",
     "text": [
      "--------------------------------------------------------------\n",
      "Correlation with anatomical hierarchy score (no RL): \n"
     ]
    },
    {
     "name": "stderr",
     "output_type": "stream",
     "text": [
      "C:\\Users\\shailaja.akella\\Anaconda3\\envs\\allensdk\\lib\\site-packages\\ipykernel_launcher.py:20: RuntimeWarning: Mean of empty slice\n"
     ]
    },
    {
     "data": {
      "text/markdown": [
       "$S_{H}$: $r_p$ = -0.90, p = 3.76e-02"
      ],
      "text/plain": [
       "<IPython.core.display.Markdown object>"
      ]
     },
     "metadata": {},
     "output_type": "display_data"
    },
    {
     "data": {
      "text/markdown": [
       "$S_{I}$: $r_p$ = -0.86, p = 6.08e-02"
      ],
      "text/plain": [
       "<IPython.core.display.Markdown object>"
      ]
     },
     "metadata": {},
     "output_type": "display_data"
    },
    {
     "data": {
      "text/markdown": [
       "$S_{L}$: $r_p$ = -0.81, p = 9.41e-02"
      ],
      "text/plain": [
       "<IPython.core.display.Markdown object>"
      ]
     },
     "metadata": {},
     "output_type": "display_data"
    },
    {
     "name": "stdout",
     "output_type": "stream",
     "text": [
      "-------------------------------------\n",
      "Two-way ANOVA for states and areas (no RL): \n"
     ]
    },
    {
     "data": {
      "text/html": [
       "<div>\n",
       "<style scoped>\n",
       "    .dataframe tbody tr th:only-of-type {\n",
       "        vertical-align: middle;\n",
       "    }\n",
       "\n",
       "    .dataframe tbody tr th {\n",
       "        vertical-align: top;\n",
       "    }\n",
       "\n",
       "    .dataframe thead th {\n",
       "        text-align: right;\n",
       "    }\n",
       "</style>\n",
       "<table border=\"1\" class=\"dataframe\">\n",
       "  <thead>\n",
       "    <tr style=\"text-align: right;\">\n",
       "      <th></th>\n",
       "      <th>sum_sq</th>\n",
       "      <th>df</th>\n",
       "      <th>F</th>\n",
       "      <th>PR(&gt;F)</th>\n",
       "    </tr>\n",
       "  </thead>\n",
       "  <tbody>\n",
       "    <tr>\n",
       "      <th>C(HS)</th>\n",
       "      <td>0.087749</td>\n",
       "      <td>4.0</td>\n",
       "      <td>2.669039</td>\n",
       "      <td>0.032469</td>\n",
       "    </tr>\n",
       "    <tr>\n",
       "      <th>C(state)</th>\n",
       "      <td>0.051314</td>\n",
       "      <td>2.0</td>\n",
       "      <td>3.121636</td>\n",
       "      <td>0.045535</td>\n",
       "    </tr>\n",
       "    <tr>\n",
       "      <th>C(HS):C(state)</th>\n",
       "      <td>0.001361</td>\n",
       "      <td>8.0</td>\n",
       "      <td>0.020701</td>\n",
       "      <td>0.999998</td>\n",
       "    </tr>\n",
       "    <tr>\n",
       "      <th>Residual</th>\n",
       "      <td>2.441079</td>\n",
       "      <td>297.0</td>\n",
       "      <td>NaN</td>\n",
       "      <td>NaN</td>\n",
       "    </tr>\n",
       "  </tbody>\n",
       "</table>\n",
       "</div>"
      ],
      "text/plain": [
       "                  sum_sq     df         F    PR(>F)\n",
       "C(HS)           0.087749    4.0  2.669039  0.032469\n",
       "C(state)        0.051314    2.0  3.121636  0.045535\n",
       "C(HS):C(state)  0.001361    8.0  0.020701  0.999998\n",
       "Residual        2.441079  297.0       NaN       NaN"
      ]
     },
     "metadata": {},
     "output_type": "display_data"
    },
    {
     "name": "stdout",
     "output_type": "stream",
     "text": [
      "-------------------------------------\n",
      "Pairwise T-test ANOVA for states: \n"
     ]
    },
    {
     "name": "stderr",
     "output_type": "stream",
     "text": [
      "C:\\Users\\shailaja.akella\\Anaconda3\\envs\\allensdk\\lib\\site-packages\\ipykernel_launcher.py:73: RuntimeWarning: Mean of empty slice\n",
      "C:\\Users\\shailaja.akella\\Anaconda3\\envs\\allensdk\\lib\\site-packages\\ipykernel_launcher.py:74: RuntimeWarning: Mean of empty slice\n"
     ]
    },
    {
     "data": {
      "text/markdown": [
       "$S_{H}$, $S_{I}$: 1.02e-02"
      ],
      "text/plain": [
       "<IPython.core.display.Markdown object>"
      ]
     },
     "metadata": {},
     "output_type": "display_data"
    },
    {
     "data": {
      "text/markdown": [
       "$S_{H}$, $S_{L}$: 7.32e-10"
      ],
      "text/plain": [
       "<IPython.core.display.Markdown object>"
      ]
     },
     "metadata": {},
     "output_type": "display_data"
    },
    {
     "data": {
      "text/markdown": [
       "$S_{I}$, $S_{L}$: 9.28e-04"
      ],
      "text/plain": [
       "<IPython.core.display.Markdown object>"
      ]
     },
     "metadata": {},
     "output_type": "display_data"
    },
    {
     "data": {
      "image/png": "[encoded data removed]",
      "text/plain": [
       "<Figure size 468x180 with 3 Axes>"
      ]
     },
     "metadata": {
      "needs_background": "light"
     },
     "output_type": "display_data"
    }
   ],
   "source": [
    "mi = np.load(filepath + \"/data/variability/mi.npy\")\n",
    "\n",
    "df = pd.DataFrame()\n",
    "for p_no, probe in enumerate(probes):\n",
    "    for s_no in range(num_states):\n",
    "        vals = np.nanmean(mi[:, p_no,:, s_no], axis = -1) \n",
    "        temp_df = pd.DataFrame()\n",
    "        temp_df['MI'] = vals[~np.isnan(vals)]\n",
    "        temp_df['state'] = short_state_names[s_no]\n",
    "        temp_df['area'] = names[p_no]\n",
    "        temp_df['HS'] = HS[p_no]\n",
    "        df = df.append(temp_df)\n",
    "\n",
    "\n",
    "fig, ax = plt.subplots(1, 3, figsize = (6.5, 2.5))\n",
    "for ns in range(num_states):\n",
    "    sns.regplot(x = 'HS', y = 'MI', data = df[df['state'] == short_state_names[ns]],\n",
    "                   ax = ax[ns], scatter = True, x_estimator = np.mean, ci = 0, x_ci = 95, \n",
    "                scatter_kws = {'c':probe_colors, 'color': None, }, line_kws = {'color':'k', 'ls': '--', 'lw': 0.5})\n",
    "    mean_val = np.nanmean(np.nanmean(np.nanmean(mi[:, :, :, ns], axis = -1), axis = -1))\n",
    "    \n",
    "    for i, line in enumerate(ax[ns].get_lines()[:-1]):\n",
    "        line.set_color(probe_colors[i])\n",
    "    \n",
    "    ax[ns].plot(HS, np.ones(6)*mean_val, ls = '--' , color = 'silver')\n",
    "    plt.legend([],[], frameon=False)\n",
    "    ax[ns].spines['top'].set_visible(False)\n",
    "    ax[ns].spines['right'].set_visible(False)\n",
    "    ax[ns].spines['bottom'].set_visible(True)\n",
    "    ax[ns].spines['left'].set_visible(False)\n",
    "    ax[ns].set_xlabel(short_state_names[ns], fontsize = 12)\n",
    "    ax[ns].set_ylabel('')\n",
    "    ax[ns].set_xticks([-0.5, 0])\n",
    "    ax[ns].set_xlim(-0.6, 0.4)\n",
    "    ax[ns].set_yticks([])\n",
    "    ax[ns].set_ylim(0.45, 0.68)\n",
    "ax[0].spines['left'].set_visible(True)\n",
    "ax[0].set_yticks([0.5, 0.6], fontsize = 12) \n",
    "ax[0].set_ylabel(r\"$MI/\\sqrt{(H_{x}H_{y})}$\", fontsize = 12)\n",
    "plt.tight_layout()\n",
    "\n",
    "# correlation with anatomical hierarchy score - with RL\n",
    "for s_no in range(num_states):\n",
    "    vals = [np.nanmean(df[(df['state'] == short_state_names[s_no]) & (df['area'] == name)]['MI'].values) for name in names]\n",
    "    res = stats.pearsonr(vals, HS)\n",
    "    ax[s_no].text(0, 0.50, r\"$r_P$ = \" + str(np.round(res[0], 2)))\n",
    "    ax[s_no].text(0, 0.47, r\"$p_P = $\" + str(np.round(res[1], 2)))\n",
    "plt.tight_layout()\n",
    "\n",
    "\n",
    "# correlation with anatomical hierarchy score - without RL\n",
    "print('--------------------------------------------------------------')\n",
    "print('Correlation with anatomical hierarchy score (no RL): ')\n",
    "HS_no_RL= [-0.5, -0.13,  0, 0.12, 0.29]\n",
    "for s_no in range(num_states):\n",
    "    vals = [np.nanmean(df[(df['state'] == short_state_names[s_no]) & (df['area'] == name)]['MI'].values) for name in names if name!='RL']\n",
    "    res = stats.pearsonr(vals, HS_no_RL)\n",
    "    display(Markdown(f\"{short_state_names[s_no]}: $r_p$ = {res[0]:.2f}, p = {res[1]:.2e}\"))\n",
    "    \n",
    "    \n",
    "# two way ANOVA\n",
    "print('-------------------------------------')\n",
    "print('Two-way ANOVA for states and areas (no RL): ')\n",
    "model = ols('MI ~ C(HS) + C(state) + C(HS):C(state)', data=df[df.area!='RL']).fit()\n",
    "display(sm.stats.anova_lm(model, typ=2)) # type 1 and type 2\n",
    "\n",
    "# comparison across states - check p-vals\n",
    "print('-------------------------------------')\n",
    "print('Pairwise T-test ANOVA for states: ')\n",
    "p = np.ones((num_states,num_states))\n",
    "for s1 in range(num_states): \n",
    "    for s2 in range(s1 + 1, num_states): \n",
    "        F, p[s1, s2] =  stats.ttest_rel(np.nanmean(np.nanmean(mi[:, :, :, s1], axis = -1), axis = -1), \n",
    "                                        np.nanmean(np.nanmean(mi[:, :, :, s2], axis = -1), axis = -1)) \n",
    "        p_sci = \"{:.2e}\".format(p[s1, s2])\n",
    "        display(Markdown(f\"{short_state_names[s1]}, {short_state_names[s2]}: {p_sci}\"))\n",
    "        \n",
    "# plt.savefig('mi.png', dpi = 300)\n",
    "# plt.savefig('mi.pdf')"
   ]
  },
  {
   "cell_type": "code",
   "execution_count": 18,
   "id": "0d7b4d3a",
   "metadata": {},
   "outputs": [
    {
     "data": {
      "text/plain": [
       "False"
      ]
     },
     "execution_count": 18,
     "metadata": {},
     "output_type": "execute_result"
    }
   ],
   "source": [
    "2.16e-03 < 0.001"
   ]
  },
  {
   "cell_type": "code",
   "execution_count": null,
   "id": "da23d547",
   "metadata": {},
   "outputs": [],
   "source": []
  }
 ],
 "metadata": {
  "kernelspec": {
   "display_name": "Python 3 (ipykernel)",
   "language": "python",
   "name": "python3"
  },
  "language_info": {
   "codemirror_mode": {
    "name": "ipython",
    "version": 3
   },
   "file_extension": ".py",
   "mimetype": "text/x-python",
   "name": "python",
   "nbconvert_exporter": "python",
   "pygments_lexer": "ipython3",
   "version": "3.7.16"
  }
 },
 "nbformat": 4,
 "nbformat_minor": 5
}
